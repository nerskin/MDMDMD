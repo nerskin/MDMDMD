{
 "cells": [
  {
   "cell_type": "code",
   "execution_count": 57,
   "id": "b83f95a1-28e6-4b25-b578-8b9288867132",
   "metadata": {},
   "outputs": [],
   "source": [
    "import pandas as pd\n",
    "import math\n",
    "import matplotlib.pyplot as plt\n",
    "import numpy as np\n",
    "import seaborn as sns"
   ]
  },
  {
   "cell_type": "code",
   "execution_count": null,
   "id": "1c9972b9-0db5-44c0-99b2-c2ae5d2be6ed",
   "metadata": {},
   "outputs": [],
   "source": [
    "data_act = pd.read_csv('Traffic_camera_offences_and_fines.csv')\n",
    "\n",
    "Month_label= ['Jan','Feb','Mar','Apr','May','Jun','Jul','Aug','Sep','Oct','Nov','Dec']\n",
    "Month_amount = np.zeros(12)\n",
    "\n",
    "for index, row in data_act.iterrows():\n",
    "    for j in range(12):\n",
    "        if  Month_label[j] in row['Offence_Month']:\n",
    "            if not (math.isnan(row['Sum_Pen_Amt'])):\n",
    "                Month_amount[j] = Month_amount[j] + row['Sum_Pen_Amt'] + + row['Sum_With_Amt']\n"
   ]
  },
  {
   "cell_type": "code",
   "execution_count": null,
   "id": "b1cab369-7343-4ec1-8ca7-f8f3622fd39e",
   "metadata": {},
   "outputs": [],
   "source": [
    "monthly_amount_data = df = pd.DataFrame(columns=['Month', 'Penalty_amount'])\n",
    "monthly_amount_data['Month'] = Month_label\n",
    "monthly_amount_data['Penalty_amount'] = Month_amount/1e6\n",
    "\n",
    "sns.set(rc={'figure.figsize':(12,8)},font_scale=1.5)\n",
    "ax = sns.barplot(x=\"Month\", y=\"Penalty_amount\", data=monthly_amount_data,color=\"salmon\")\n",
    "ax.set_ylabel('Penalty amount (Mil $)')\n",
    "ax.set_title('ACT traffic camera penalty monthly distribution from 2011-2022')\n",
    "plt.savefig('Penalty monthly distribution.png')"
   ]
  },
  {
   "cell_type": "code",
   "execution_count": null,
   "id": "e3d4fea0-a070-47b5-97c7-877c1bdd758f",
   "metadata": {},
   "outputs": [],
   "source": []
  }
 ],
 "metadata": {
  "kernelspec": {
   "display_name": "Python 3",
   "language": "python",
   "name": "python3"
  },
  "language_info": {
   "codemirror_mode": {
    "name": "ipython",
    "version": 3
   },
   "file_extension": ".py",
   "mimetype": "text/x-python",
   "name": "python",
   "nbconvert_exporter": "python",
   "pygments_lexer": "ipython3",
   "version": "3.8.10"
  }
 },
 "nbformat": 4,
 "nbformat_minor": 5
}
